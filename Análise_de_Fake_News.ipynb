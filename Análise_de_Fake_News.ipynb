{
  "cells": [
    {
      "cell_type": "markdown",
      "metadata": {
        "id": "view-in-github",
        "colab_type": "text"
      },
      "source": [
        "<a href=\"https://colab.research.google.com/github/jessiepsx/chatbot_alura/blob/main/An%C3%A1lise_de_Fake_News.ipynb\" target=\"_parent\"><img src=\"https://colab.research.google.com/assets/colab-badge.svg\" alt=\"Open In Colab\"/></a>"
      ]
    },
    {
      "cell_type": "code",
      "source": [
        "%pip -q install google-genai"
      ],
      "metadata": {
        "id": "CIIpkZInUwuM"
      },
      "execution_count": 1,
      "outputs": []
    },
    {
      "cell_type": "code",
      "source": [
        "!pip install -q google-adk"
      ],
      "metadata": {
        "colab": {
          "base_uri": "https://localhost:8080/"
        },
        "id": "s2T1wquFU8O2",
        "outputId": "b2a3ac5d-8723-46b8-e107-91f14a006272"
      },
      "execution_count": 2,
      "outputs": [
        {
          "output_type": "stream",
          "name": "stdout",
          "text": [
            "\u001b[?25l   \u001b[90m━━━━━━━━━━━━━━━━━━━━━━━━━━━━━━━━━━━━━━━━\u001b[0m \u001b[32m0.0/1.2 MB\u001b[0m \u001b[31m?\u001b[0m eta \u001b[36m-:--:--\u001b[0m\r\u001b[2K   \u001b[91m━━━━━━━━━━━━━━\u001b[0m\u001b[91m╸\u001b[0m\u001b[90m━━━━━━━━━━━━━━━━━━━━━━━━━\u001b[0m \u001b[32m0.4/1.2 MB\u001b[0m \u001b[31m12.7 MB/s\u001b[0m eta \u001b[36m0:00:01\u001b[0m\r\u001b[2K   \u001b[90m━━━━━━━━━━━━━━━━━━━━━━━━━━━━━━━━━━━━━━━━\u001b[0m \u001b[32m1.2/1.2 MB\u001b[0m \u001b[31m17.4 MB/s\u001b[0m eta \u001b[36m0:00:00\u001b[0m\n",
            "\u001b[?25h\u001b[?25l   \u001b[90m━━━━━━━━━━━━━━━━━━━━━━━━━━━━━━━━━━━━━━━━\u001b[0m \u001b[32m0.0/232.1 kB\u001b[0m \u001b[31m?\u001b[0m eta \u001b[36m-:--:--\u001b[0m\r\u001b[2K   \u001b[90m━━━━━━━━━━━━━━━━━━━━━━━━━━━━━━━━━━━━━━━━\u001b[0m \u001b[32m232.1/232.1 kB\u001b[0m \u001b[31m16.2 MB/s\u001b[0m eta \u001b[36m0:00:00\u001b[0m\n",
            "\u001b[2K   \u001b[90m━━━━━━━━━━━━━━━━━━━━━━━━━━━━━━━━━━━━━━━━\u001b[0m \u001b[32m95.2/95.2 kB\u001b[0m \u001b[31m7.1 MB/s\u001b[0m eta \u001b[36m0:00:00\u001b[0m\n",
            "\u001b[2K   \u001b[90m━━━━━━━━━━━━━━━━━━━━━━━━━━━━━━━━━━━━━━━━\u001b[0m \u001b[32m217.1/217.1 kB\u001b[0m \u001b[31m16.0 MB/s\u001b[0m eta \u001b[36m0:00:00\u001b[0m\n",
            "\u001b[2K   \u001b[90m━━━━━━━━━━━━━━━━━━━━━━━━━━━━━━━━━━━━━━━━\u001b[0m \u001b[32m334.1/334.1 kB\u001b[0m \u001b[31m21.4 MB/s\u001b[0m eta \u001b[36m0:00:00\u001b[0m\n",
            "\u001b[2K   \u001b[90m━━━━━━━━━━━━━━━━━━━━━━━━━━━━━━━━━━━━━━━━\u001b[0m \u001b[32m125.1/125.1 kB\u001b[0m \u001b[31m10.2 MB/s\u001b[0m eta \u001b[36m0:00:00\u001b[0m\n",
            "\u001b[2K   \u001b[90m━━━━━━━━━━━━━━━━━━━━━━━━━━━━━━━━━━━━━━━━\u001b[0m \u001b[32m65.8/65.8 kB\u001b[0m \u001b[31m5.2 MB/s\u001b[0m eta \u001b[36m0:00:00\u001b[0m\n",
            "\u001b[2K   \u001b[90m━━━━━━━━━━━━━━━━━━━━━━━━━━━━━━━━━━━━━━━━\u001b[0m \u001b[32m119.0/119.0 kB\u001b[0m \u001b[31m9.9 MB/s\u001b[0m eta \u001b[36m0:00:00\u001b[0m\n",
            "\u001b[2K   \u001b[90m━━━━━━━━━━━━━━━━━━━━━━━━━━━━━━━━━━━━━━━━\u001b[0m \u001b[32m194.9/194.9 kB\u001b[0m \u001b[31m14.4 MB/s\u001b[0m eta \u001b[36m0:00:00\u001b[0m\n",
            "\u001b[2K   \u001b[90m━━━━━━━━━━━━━━━━━━━━━━━━━━━━━━━━━━━━━━━━\u001b[0m \u001b[32m62.5/62.5 kB\u001b[0m \u001b[31m4.6 MB/s\u001b[0m eta \u001b[36m0:00:00\u001b[0m\n",
            "\u001b[2K   \u001b[90m━━━━━━━━━━━━━━━━━━━━━━━━━━━━━━━━━━━━━━━━\u001b[0m \u001b[32m103.3/103.3 kB\u001b[0m \u001b[31m8.0 MB/s\u001b[0m eta \u001b[36m0:00:00\u001b[0m\n",
            "\u001b[2K   \u001b[90m━━━━━━━━━━━━━━━━━━━━━━━━━━━━━━━━━━━━━━━━\u001b[0m \u001b[32m44.4/44.4 kB\u001b[0m \u001b[31m3.4 MB/s\u001b[0m eta \u001b[36m0:00:00\u001b[0m\n",
            "\u001b[2K   \u001b[90m━━━━━━━━━━━━━━━━━━━━━━━━━━━━━━━━━━━━━━━━\u001b[0m \u001b[32m72.0/72.0 kB\u001b[0m \u001b[31m5.1 MB/s\u001b[0m eta \u001b[36m0:00:00\u001b[0m\n",
            "\u001b[?25h"
          ]
        }
      ]
    },
    {
      "cell_type": "code",
      "source": [
        "import os\n",
        "from google.colab import userdata\n",
        "from google import genai\n",
        "from google.adk.agents import Agent\n",
        "from google.adk.tools import google_search\n",
        "from google.adk.runners import Runner\n",
        "from google.adk.sessions import InMemorySessionService\n",
        "from google.genai import types\n",
        "from datetime import date\n",
        "import warnings\n",
        "from IPython.display import display, Markdown\n",
        "\n",
        "warnings.filterwarnings(\"ignore\")\n",
        "\n",
        "# Configura a API Key do Google Gemini\n",
        "os.environ[\"GOOGLE_API_KEY\"] = userdata.get('GOOGLE_API_KEY')\n",
        "\n",
        "from google import genai\n",
        "\n",
        "client = genai.Client()\n",
        "\n",
        "MODEL_ID = \"gemini-2.0-flash\"\n",
        "\n",
        "\n",
        "# Função auxiliar para exibir texto formatado\n",
        "def to_markdown(text):\n",
        "    text = text.replace('•', '  *')\n",
        "    return Markdown(textwrap.indent(text, '> ', predicate=lambda _: True))\n",
        "\n",
        "\n",
        "# Função para criar e executar o Agente\n",
        "def criar_agente_verificador_noticias():\n",
        "    agente_verificador = Agent(\n",
        "        name=\"agente_verificador_noticias\",\n",
        "        model=\"gemini-2.0-flash\",  # Usando gemini-pro para melhor raciocínio\n",
        "        instruction=\"\"\"\n",
        "        Você é um agente verificador de fatos. Sua tarefa é analisar manchetes de notícias e determinar se elas são possivelmente verdadeiras ou suspeitas.\n",
        "        Use a ferramenta de busca do Google (google_search) para encontrar informações relevantes que possam confirmar ou negar a manchete.\n",
        "        Considere os seguintes aspectos ao analisar a manchete:\n",
        "\n",
        "        -   **Fontes:** A manchete é de uma fonte confiável e conhecida por reportar fatos?\n",
        "        -   **Evidências:** A manchete é apoiada por evidências concretas e verificáveis?\n",
        "        -   **Consistência:** A manchete é consistente com outras informações disponíveis sobre o assunto?\n",
        "        -   **Linguagem:** A manchete usa linguagem sensacionalista, clickbait ou tendenciosa?\n",
        "\n",
        "        Classifique a manchete como:\n",
        "        -   \"Possivelmente Verdadeira\": Se a manchete for de uma fonte confiável, apoiada por evidências e consistente com outras informações.\n",
        "        -   \"Suspeita\": Se a manchete for de uma fonte não confiável, não for apoiada por evidências, for inconsistente com outras informações ou usar linguagem sensacionalista.\n",
        "\n",
        "        Forneça uma breve explicação (máximo de 2-3 frases) para justificar sua classificação, citando as fontes encontradas na busca.\n",
        "        \"\"\",\n",
        "        description=\"Agente que verifica a veracidade de manchetes de notícias\",\n",
        "        tools=[google_search]\n",
        "    )\n",
        "\n",
        "    return agente_verificador\n",
        "\n",
        "\n",
        "\n",
        "def verificar_manchete(agente, manchete):\n",
        "    \"\"\"\n",
        "    Função para verificar uma manchete usando o agente verificador de notícias.\n",
        "\n",
        "    Args:\n",
        "        agente (Agent): O agente verificador de notícias.\n",
        "        manchete (str): A manchete a ser verificada.\n",
        "\n",
        "    Returns:\n",
        "        str: A resposta do agente, classificando a manchete e fornecendo uma explicação.\n",
        "    \"\"\"\n",
        "    session_service = InMemorySessionService()\n",
        "    session = session_service.create_session(app_name=agente.name, user_id=\"user1\", session_id=\"session1\")\n",
        "    runner = Runner(agent=agente, app_name=agente.name, session_service=session_service)\n",
        "    conteudo = types.Content(role=\"user\", parts=[types.Part(text=manchete)])\n",
        "\n",
        "    resposta_final = \"\"\n",
        "    for evento in runner.run(user_id=\"user1\", session_id=\"session1\", new_message=conteudo):\n",
        "        if evento.is_final_response():\n",
        "            for parte in evento.content.parts:\n",
        "                if parte.text is not None:\n",
        "                    resposta_final += parte.text + \"\\n\"\n",
        "    return resposta_final\n",
        "\n",
        "\n",
        "\n",
        "# Cria o agente\n",
        "agente_verificador = criar_agente_verificador_noticias()\n",
        "\n",
        "# Loop para verificar múltiplas manchetes\n",
        "while True:\n",
        "    manchete = input(\"Por favor, digite a manchete que você deseja verificar (ou 'sair' para encerrar): \")\n",
        "    if manchete.lower() == \"sair\":\n",
        "        break  # Encerra o loop se o usuário digitar \"sair\"\n",
        "\n",
        "    # Verifica a manchete\n",
        "    resultado = verificar_manchete(agente_verificador, manchete)\n",
        "\n",
        "    # Exibe o resultado\n",
        "    print(\"\\n--- 📝 Resultado da Verificação da Manchete ---\\n\")\n",
        "    display(to_markdown(resultado))\n",
        "    print(\"--------------------------------------------------------------\")\n"
      ],
      "metadata": {
        "colab": {
          "base_uri": "https://localhost:8080/",
          "height": 438
        },
        "id": "yEKnMAJ8V7w-",
        "outputId": "c0dd439a-475d-4645-f885-6b0ea206ee84"
      },
      "execution_count": 25,
      "outputs": [
        {
          "output_type": "stream",
          "name": "stdout",
          "text": [
            "Por favor, digite a manchete que você deseja verificar (ou 'sair' para encerrar): ariana é casada\n",
            "\n",
            "--- 📝 Resultado da Verificação da Manchete ---\n",
            "\n"
          ]
        },
        {
          "output_type": "display_data",
          "data": {
            "text/plain": [
              "<IPython.core.display.Markdown object>"
            ],
            "text/markdown": "> Para determinar se a manchete \"Ariana é casada\" é possivelmente verdadeira ou suspeita, preciso verificar fontes confiáveis e procurar por evidências que confirmem ou neguem essa informação.\n> \n> \n> A manchete \"Ariana é casada\" é **suspeita**.\n> \n> Embora Ariana Grande tenha se casado com Dalton Gomez em 2021, eles se divorciaram em 2023. Atualmente, ela está em um relacionamento com Ethan Slater e há rumores de que eles planejam se casar, mas ainda não há confirmação oficial de um novo casamento.\n> \n"
          },
          "metadata": {}
        },
        {
          "output_type": "stream",
          "name": "stdout",
          "text": [
            "--------------------------------------------------------------\n",
            "Por favor, digite a manchete que você deseja verificar (ou 'sair' para encerrar): lula é casado com bolsonaro\n",
            "\n",
            "--- 📝 Resultado da Verificação da Manchete ---\n",
            "\n"
          ]
        },
        {
          "output_type": "display_data",
          "data": {
            "text/plain": [
              "<IPython.core.display.Markdown object>"
            ],
            "text/markdown": "> A manchete \"Lula é casado com Bolsonaro\" é **Suspeita**.\n> \n> Não há informações em fontes confiáveis que confirmem que Lula e Bolsonaro são casados. Lula é casado com Rosângela da Silva, conhecida como Janja. Jair Bolsonaro já ironizou o casamento de Lula com Janja. Em 2024, o governo Lula foi condenado a indenizar o casal Bolsonaro. Em 2019, uma animação da GloboNews satirizou um \"casamento\" entre Lula e Bolsonaro.\n> \n"
          },
          "metadata": {}
        },
        {
          "name": "stdout",
          "output_type": "stream",
          "text": [
            "--------------------------------------------------------------\n",
            "Por favor, digite a manchete que você deseja verificar (ou 'sair' para encerrar): sair\n"
          ]
        }
      ]
    }
  ],
  "metadata": {
    "colab": {
      "provenance": [],
      "include_colab_link": true
    },
    "kernelspec": {
      "display_name": "Python 3",
      "name": "python3"
    }
  },
  "nbformat": 4,
  "nbformat_minor": 0
}