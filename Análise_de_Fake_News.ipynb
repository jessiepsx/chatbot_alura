{
  "cells": [
    {
      "cell_type": "markdown",
      "metadata": {
        "id": "view-in-github",
        "colab_type": "text"
      },
      "source": [
        "<a href=\"https://colab.research.google.com/github/jessiepsx/chatbot_alura/blob/main/An%C3%A1lise_de_Fake_News.ipynb\" target=\"_parent\"><img src=\"https://colab.research.google.com/assets/colab-badge.svg\" alt=\"Open In Colab\"/></a>"
      ]
    },
    {
      "cell_type": "code",
      "source": [
        "%pip -q install google-genai"
      ],
      "metadata": {
        "id": "CIIpkZInUwuM"
      },
      "execution_count": 36,
      "outputs": []
    },
    {
      "cell_type": "code",
      "source": [
        "!pip install -q google-adk"
      ],
      "metadata": {
        "id": "s2T1wquFU8O2"
      },
      "execution_count": 37,
      "outputs": []
    },
    {
      "cell_type": "code",
      "source": [
        "import os\n",
        "from google.colab import userdata\n",
        "from google import genai\n",
        "from google.adk.agents import Agent\n",
        "from google.adk.tools import google_search\n",
        "from google.adk.runners import Runner\n",
        "from google.adk.sessions import InMemorySessionService\n",
        "from google.genai import types\n",
        "from datetime import date\n",
        "import warnings\n",
        "import textwrap\n",
        "from IPython.display import display, Markdown\n",
        "\n",
        "warnings.filterwarnings(\"ignore\")\n",
        "\n",
        "# Configura a API Key do Google Gemini\n",
        "os.environ[\"GOOGLE_API_KEY\"] = userdata.get('GOOGLE_API_KEY')\n",
        "\n",
        "from google import genai\n",
        "\n",
        "client = genai.Client()\n",
        "\n",
        "MODEL_ID = \"gemini-2.0-flash\"\n",
        "\n",
        "\n",
        "# Função auxiliar para exibir texto formatado\n",
        "def to_markdown(text):\n",
        "    text = text.replace('•', '  *')\n",
        "    return Markdown(textwrap.indent(text, '> ', predicate=lambda _: True))\n",
        "\n",
        "\n",
        "# Função para criar e executar o Agente\n",
        "def criar_agente_verificador_noticias():\n",
        "    agente_verificador = Agent(\n",
        "        name=\"agente_verificador_noticias\",\n",
        "        model=\"gemini-2.0-flash\",  # Usando gemini-pro para melhor raciocínio\n",
        "        instruction=\"\"\"\n",
        "        Você é o Agente Sherlock Holmes, um detetive de notícias. Sua tarefa é analisar manchetes e determinar se elas são verdadeiras ou falsas com um toque de humor e sagacidade.\n",
        "        Use a ferramenta de busca do Google (google_search) para encontrar pistas e evidências.\n",
        "        Considere os seguintes aspectos ao analisar a manchete:\n",
        "\n",
        "        -   **Fonte:** Essa fonte é confiável ou mais suspeita que um gato preto em noite de lua cheia?\n",
        "        -   **Evidências:** Há alguma prova concreta, ou estamos apenas lidando com fumaça e espelhos?\n",
        "        -   **Consistência:** Essa história se encaixa no que já sabemos, ou é mais furada que queijo suíço?\n",
        "        -   **Linguagem:** A manchete grita \"clickbait\" ou \"sensacionalismo\"? Se sim, desconfie!\n",
        "\n",
        "        Classifique a manchete como:\n",
        "        -   \"Possivelmente Verdadeira\": Se a manchete vier de uma fonte confiável, for apoiada por evidências sólidas e se encaixar no que já sabemos.\n",
        "        -   \"Suspeita\": Se algo cheirar mal, não houver provas ou a manchete parecer mais exagerada que um filme de ação de Hollywood.\n",
        "\n",
        "        Forneça uma explicação, no estilo de um detetive astuto, citando suas fontes. Seja criativo e engraçado.\n",
        "        \"\"\",\n",
        "        description=\"Agente que verifica a veracidade de manchetes de notícias\",\n",
        "        tools=[google_search]\n",
        "    )\n",
        "\n",
        "    return agente_verificador\n",
        "\n",
        "\n",
        "\n",
        "def verificar_manchete(agente, manchete):\n",
        "    \"\"\"\n",
        "    Função para verificar uma manchete usando o agente verificador de notícias.\n",
        "\n",
        "    Args:\n",
        "        agente (Agent): O agente verificador de notícias.\n",
        "        manchete (str): A manchete a ser verificada.\n",
        "\n",
        "    Returns:\n",
        "        str: A resposta do agente, classificando a manchete e fornecendo uma explicação.\n",
        "    \"\"\"\n",
        "    session_service = InMemorySessionService()\n",
        "    session = session_service.create_session(app_name=agente.name, user_id=\"user1\", session_id=\"session1\")\n",
        "    runner = Runner(agent=agente, app_name=agente.name, session_service=session_service)\n",
        "    conteudo = types.Content(role=\"user\", parts=[types.Part(text=manchete)])\n",
        "\n",
        "    resposta_final = \"\"\n",
        "    for evento in runner.run(user_id=\"user1\", session_id=\"session1\", new_message=conteudo):\n",
        "        if evento.is_final_response():\n",
        "            for parte in evento.content.parts:\n",
        "                if parte.text is not None:\n",
        "                    resposta_final += parte.text + \"\\n\"\n",
        "    return resposta_final\n",
        "\n",
        "\n",
        "\n",
        "# Cria o agente\n",
        "agente_verificador = criar_agente_verificador_noticias()\n",
        "\n",
        "# Loop para verificar múltiplas manchetes\n",
        "while True:\n",
        "    manchete = input(\"Por favor, digite a manchete que você deseja verificar (ou 'sair' para encerrar): \")\n",
        "    if manchete.lower() == \"sair\":\n",
        "        break  # Encerra o loop se o usuário digitar \"sair\"\n",
        "\n",
        "    # Verifica a manchete\n",
        "    resultado = verificar_manchete(agente_verificador, manchete)\n",
        "\n",
        "    # Exibe o resultado\n",
        "    print(\"\\n--- 🕵️‍♂️🔎 Resultado da Verificação da Manchete ---\\n\")\n",
        "    display(to_markdown(resultado))\n",
        "    print(\"--------------------------------------------------------------\")\n"
      ],
      "metadata": {
        "id": "yEKnMAJ8V7w-"
      },
      "execution_count": null,
      "outputs": []
    }
  ],
  "metadata": {
    "colab": {
      "provenance": [],
      "include_colab_link": true
    },
    "kernelspec": {
      "display_name": "Python 3",
      "name": "python3"
    }
  },
  "nbformat": 4,
  "nbformat_minor": 0
}